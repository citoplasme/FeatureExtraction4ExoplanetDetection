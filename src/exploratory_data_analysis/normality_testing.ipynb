{
 "cells": [
  {
   "cell_type": "code",
   "execution_count": 1,
   "metadata": {},
   "outputs": [],
   "source": [
    "import pandas as pd\n",
    "import numpy as np\n",
    "import re\n",
    "import os"
   ]
  },
  {
   "cell_type": "code",
   "execution_count": 2,
   "metadata": {},
   "outputs": [],
   "source": [
    "BASE_PATH = '../../data/'\n",
    "train = pd.read_csv(os.path.join(BASE_PATH, 'train.csv'))\n",
    "test = pd.read_csv(os.path.join(BASE_PATH, 'test.csv'))"
   ]
  },
  {
   "cell_type": "code",
   "execution_count": 3,
   "metadata": {},
   "outputs": [
    {
     "data": {
      "text/html": [
       "<div>\n",
       "<style scoped>\n",
       "    .dataframe tbody tr th:only-of-type {\n",
       "        vertical-align: middle;\n",
       "    }\n",
       "\n",
       "    .dataframe tbody tr th {\n",
       "        vertical-align: top;\n",
       "    }\n",
       "\n",
       "    .dataframe thead th {\n",
       "        text-align: right;\n",
       "    }\n",
       "</style>\n",
       "<table border=\"1\" class=\"dataframe\">\n",
       "  <thead>\n",
       "    <tr style=\"text-align: right;\">\n",
       "      <th></th>\n",
       "      <th>exoplanets</th>\n",
       "      <th>t-1</th>\n",
       "      <th>t-2</th>\n",
       "      <th>t-3</th>\n",
       "      <th>t-4</th>\n",
       "      <th>t-5</th>\n",
       "      <th>t-6</th>\n",
       "      <th>t-7</th>\n",
       "      <th>t-8</th>\n",
       "      <th>t-9</th>\n",
       "      <th>...</th>\n",
       "      <th>t-3188</th>\n",
       "      <th>t-3189</th>\n",
       "      <th>t-3190</th>\n",
       "      <th>t-3191</th>\n",
       "      <th>t-3192</th>\n",
       "      <th>t-3193</th>\n",
       "      <th>t-3194</th>\n",
       "      <th>t-3195</th>\n",
       "      <th>t-3196</th>\n",
       "      <th>t-3197</th>\n",
       "    </tr>\n",
       "  </thead>\n",
       "  <tbody>\n",
       "    <tr>\n",
       "      <th>0</th>\n",
       "      <td>True</td>\n",
       "      <td>93.85</td>\n",
       "      <td>83.81</td>\n",
       "      <td>20.10</td>\n",
       "      <td>-26.98</td>\n",
       "      <td>-39.56</td>\n",
       "      <td>-124.71</td>\n",
       "      <td>-135.18</td>\n",
       "      <td>-96.27</td>\n",
       "      <td>-79.89</td>\n",
       "      <td>...</td>\n",
       "      <td>-78.07</td>\n",
       "      <td>-102.15</td>\n",
       "      <td>-102.15</td>\n",
       "      <td>25.13</td>\n",
       "      <td>48.57</td>\n",
       "      <td>92.54</td>\n",
       "      <td>39.32</td>\n",
       "      <td>61.42</td>\n",
       "      <td>5.08</td>\n",
       "      <td>-39.54</td>\n",
       "    </tr>\n",
       "    <tr>\n",
       "      <th>1</th>\n",
       "      <td>True</td>\n",
       "      <td>-38.88</td>\n",
       "      <td>-33.83</td>\n",
       "      <td>-58.54</td>\n",
       "      <td>-40.09</td>\n",
       "      <td>-79.31</td>\n",
       "      <td>-72.81</td>\n",
       "      <td>-86.55</td>\n",
       "      <td>-85.33</td>\n",
       "      <td>-83.97</td>\n",
       "      <td>...</td>\n",
       "      <td>-3.28</td>\n",
       "      <td>-32.21</td>\n",
       "      <td>-32.21</td>\n",
       "      <td>-24.89</td>\n",
       "      <td>-4.86</td>\n",
       "      <td>0.76</td>\n",
       "      <td>-11.70</td>\n",
       "      <td>6.46</td>\n",
       "      <td>16.00</td>\n",
       "      <td>19.93</td>\n",
       "    </tr>\n",
       "    <tr>\n",
       "      <th>2</th>\n",
       "      <td>True</td>\n",
       "      <td>532.64</td>\n",
       "      <td>535.92</td>\n",
       "      <td>513.73</td>\n",
       "      <td>496.92</td>\n",
       "      <td>456.45</td>\n",
       "      <td>466.00</td>\n",
       "      <td>464.50</td>\n",
       "      <td>486.39</td>\n",
       "      <td>436.56</td>\n",
       "      <td>...</td>\n",
       "      <td>-71.69</td>\n",
       "      <td>13.31</td>\n",
       "      <td>13.31</td>\n",
       "      <td>-29.89</td>\n",
       "      <td>-20.88</td>\n",
       "      <td>5.06</td>\n",
       "      <td>-11.80</td>\n",
       "      <td>-28.91</td>\n",
       "      <td>-70.02</td>\n",
       "      <td>-96.67</td>\n",
       "    </tr>\n",
       "    <tr>\n",
       "      <th>3</th>\n",
       "      <td>True</td>\n",
       "      <td>326.52</td>\n",
       "      <td>347.39</td>\n",
       "      <td>302.35</td>\n",
       "      <td>298.13</td>\n",
       "      <td>317.74</td>\n",
       "      <td>312.70</td>\n",
       "      <td>322.33</td>\n",
       "      <td>311.31</td>\n",
       "      <td>312.42</td>\n",
       "      <td>...</td>\n",
       "      <td>5.71</td>\n",
       "      <td>-3.73</td>\n",
       "      <td>-3.73</td>\n",
       "      <td>30.05</td>\n",
       "      <td>20.03</td>\n",
       "      <td>-12.67</td>\n",
       "      <td>-8.77</td>\n",
       "      <td>-17.31</td>\n",
       "      <td>-17.35</td>\n",
       "      <td>13.98</td>\n",
       "    </tr>\n",
       "    <tr>\n",
       "      <th>4</th>\n",
       "      <td>True</td>\n",
       "      <td>-1107.21</td>\n",
       "      <td>-1112.59</td>\n",
       "      <td>-1118.95</td>\n",
       "      <td>-1095.10</td>\n",
       "      <td>-1057.55</td>\n",
       "      <td>-1034.48</td>\n",
       "      <td>-998.34</td>\n",
       "      <td>-1022.71</td>\n",
       "      <td>-989.57</td>\n",
       "      <td>...</td>\n",
       "      <td>-594.37</td>\n",
       "      <td>-401.66</td>\n",
       "      <td>-401.66</td>\n",
       "      <td>-357.24</td>\n",
       "      <td>-443.76</td>\n",
       "      <td>-438.54</td>\n",
       "      <td>-399.71</td>\n",
       "      <td>-384.65</td>\n",
       "      <td>-411.79</td>\n",
       "      <td>-510.54</td>\n",
       "    </tr>\n",
       "  </tbody>\n",
       "</table>\n",
       "<p>5 rows × 3198 columns</p>\n",
       "</div>"
      ],
      "text/plain": [
       "   exoplanets      t-1      t-2      t-3      t-4      t-5      t-6     t-7  \\\n",
       "0        True    93.85    83.81    20.10   -26.98   -39.56  -124.71 -135.18   \n",
       "1        True   -38.88   -33.83   -58.54   -40.09   -79.31   -72.81  -86.55   \n",
       "2        True   532.64   535.92   513.73   496.92   456.45   466.00  464.50   \n",
       "3        True   326.52   347.39   302.35   298.13   317.74   312.70  322.33   \n",
       "4        True -1107.21 -1112.59 -1118.95 -1095.10 -1057.55 -1034.48 -998.34   \n",
       "\n",
       "       t-8     t-9  ...  t-3188  t-3189  t-3190  t-3191  t-3192  t-3193  \\\n",
       "0   -96.27  -79.89  ...  -78.07 -102.15 -102.15   25.13   48.57   92.54   \n",
       "1   -85.33  -83.97  ...   -3.28  -32.21  -32.21  -24.89   -4.86    0.76   \n",
       "2   486.39  436.56  ...  -71.69   13.31   13.31  -29.89  -20.88    5.06   \n",
       "3   311.31  312.42  ...    5.71   -3.73   -3.73   30.05   20.03  -12.67   \n",
       "4 -1022.71 -989.57  ... -594.37 -401.66 -401.66 -357.24 -443.76 -438.54   \n",
       "\n",
       "   t-3194  t-3195  t-3196  t-3197  \n",
       "0   39.32   61.42    5.08  -39.54  \n",
       "1  -11.70    6.46   16.00   19.93  \n",
       "2  -11.80  -28.91  -70.02  -96.67  \n",
       "3   -8.77  -17.31  -17.35   13.98  \n",
       "4 -399.71 -384.65 -411.79 -510.54  \n",
       "\n",
       "[5 rows x 3198 columns]"
      ]
     },
     "execution_count": 3,
     "metadata": {},
     "output_type": "execute_result"
    }
   ],
   "source": [
    "train['LABEL'] = (train['LABEL'] - 1).astype(bool)\n",
    "test['LABEL'] = (test['LABEL'] - 1).astype(bool)\n",
    "train = train.rename(columns = {'LABEL' : 'exoplanets'}).rename(lambda x : x.lower().replace('flux.', 't-'), axis = 'columns')\n",
    "test = test.rename(columns = {'LABEL' : 'exoplanets'}).rename(lambda x : x.lower().replace('flux.', 't-'), axis = 'columns')\n",
    "train.head()"
   ]
  },
  {
   "cell_type": "code",
   "execution_count": 4,
   "metadata": {},
   "outputs": [],
   "source": [
    "train = train.sample(frac = 1).reset_index(drop = True)\n",
    "test = test.sample(frac = 1).reset_index(drop = True)"
   ]
  },
  {
   "cell_type": "code",
   "execution_count": 5,
   "metadata": {},
   "outputs": [],
   "source": [
    "X_train = train.select_dtypes('number')\n",
    "y_train = train['exoplanets']\n",
    "X_test = test.select_dtypes('number')\n",
    "y_test = test['exoplanets']"
   ]
  },
  {
   "cell_type": "code",
   "execution_count": 6,
   "metadata": {},
   "outputs": [],
   "source": [
    "import numpy as np\n",
    "from scipy import stats\n",
    "p_values = []\n",
    "for _, row in X_train.iterrows():\n",
    "  _, p_value = stats.kstest(row.array, 'norm', alternative = 'two-sided')\n",
    "  p_values.append(p_value)"
   ]
  },
  {
   "cell_type": "code",
   "execution_count": 7,
   "metadata": {},
   "outputs": [],
   "source": [
    "alpha = 0.05\n",
    "for p_value in p_values:\n",
    "  if p_value < alpha:\n",
    "    continue\n",
    "    #print(f\"Not normal (reject H0) with p-value {p_value}\")\n",
    "  else:\n",
    "    print(f\"Normal (fail to reject H0) with p-value {p_value}\")\n"
   ]
  },
  {
   "cell_type": "code",
   "execution_count": 8,
   "metadata": {},
   "outputs": [],
   "source": [
    "import numpy as np\n",
    "from scipy import stats\n",
    "p_values = []\n",
    "for _, row in X_test.iterrows():\n",
    "  _, p_value = stats.kstest(row.array, 'norm', alternative = 'two-sided')\n",
    "  p_values.append(p_value)"
   ]
  },
  {
   "cell_type": "code",
   "execution_count": 9,
   "metadata": {},
   "outputs": [],
   "source": [
    "alpha = 0.05\n",
    "for p_value in p_values:\n",
    "  if p_value < alpha:\n",
    "    continue\n",
    "    #print(f\"Not normal (reject H0) with p-value {p_value}\")\n",
    "  else:\n",
    "    print(f\"Normal (fail to reject H0) with p-value {p_value}\")\n"
   ]
  },
  {
   "cell_type": "markdown",
   "metadata": {},
   "source": [
    "## Size reduction"
   ]
  },
  {
   "cell_type": "code",
   "execution_count": 15,
   "metadata": {},
   "outputs": [],
   "source": [
    "# Randomly sleect 100 columns from X_train\n",
    "import random\n",
    "random.seed(42)\n",
    "random_columns = random.sample(list(X_train.columns), 100)\n",
    "X_train = X_train[random_columns]\n",
    "X_test = X_test[random_columns]"
   ]
  },
  {
   "cell_type": "code",
   "execution_count": 16,
   "metadata": {},
   "outputs": [],
   "source": [
    "import numpy as np\n",
    "from scipy import stats\n",
    "p_values = []\n",
    "for _, row in X_train.iterrows():\n",
    "  _, p_value = stats.kstest(row.array, 'norm', alternative = 'two-sided')\n",
    "  p_values.append(p_value)"
   ]
  },
  {
   "cell_type": "code",
   "execution_count": 17,
   "metadata": {},
   "outputs": [
    {
     "name": "stdout",
     "output_type": "stream",
     "text": [
      "Normal (fail to reject H0) with p-value 0.22958723774239154\n"
     ]
    }
   ],
   "source": [
    "alpha = 0.05\n",
    "for p_value in p_values:\n",
    "  if p_value < alpha:\n",
    "    continue\n",
    "    #print(f\"Not normal (reject H0) with p-value {p_value}\")\n",
    "  else:\n",
    "    print(f\"Normal (fail to reject H0) with p-value {p_value}\")\n"
   ]
  },
  {
   "cell_type": "code",
   "execution_count": 18,
   "metadata": {},
   "outputs": [],
   "source": [
    "import numpy as np\n",
    "from scipy import stats\n",
    "p_values = []\n",
    "for _, row in X_test.iterrows():\n",
    "  _, p_value = stats.kstest(row.array, 'norm', alternative = 'two-sided')\n",
    "  p_values.append(p_value)"
   ]
  },
  {
   "cell_type": "code",
   "execution_count": 19,
   "metadata": {},
   "outputs": [],
   "source": [
    "alpha = 0.05\n",
    "for p_value in p_values:\n",
    "  if p_value < alpha:\n",
    "    continue\n",
    "    #print(f\"Not normal (reject H0) with p-value {p_value}\")\n",
    "  else:\n",
    "    print(f\"Normal (fail to reject H0) with p-value {p_value}\")\n"
   ]
  }
 ],
 "metadata": {
  "kernelspec": {
   "display_name": "Python 3",
   "language": "python",
   "name": "python3"
  },
  "language_info": {
   "codemirror_mode": {
    "name": "ipython",
    "version": 3
   },
   "file_extension": ".py",
   "mimetype": "text/x-python",
   "name": "python",
   "nbconvert_exporter": "python",
   "pygments_lexer": "ipython3",
   "version": "3.10.13"
  }
 },
 "nbformat": 4,
 "nbformat_minor": 2
}
